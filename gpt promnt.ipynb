{
 "cells": [
  {
   "cell_type": "code",
   "execution_count": 1,
   "id": "3b669c87",
   "metadata": {},
   "outputs": [],
   "source": [
    "from transformers import GPT2LMHeadModel, GPT2Tokenizer\n",
    "import torch "
   ]
  },
  {
   "cell_type": "code",
   "execution_count": 2,
   "id": "3f5d63dc",
   "metadata": {},
   "outputs": [],
   "source": [
    "model_path = \"./gpt2-climate\"\n",
    "model = GPT2LMHeadModel.from_pretrained(model_path)\n",
    "tokenizer = GPT2Tokenizer.from_pretrained(model_path)"
   ]
  },
  {
   "cell_type": "code",
   "execution_count": 3,
   "id": "96844725",
   "metadata": {},
   "outputs": [],
   "source": [
    "prompt = \"The future of climate\"  "
   ]
  },
  {
   "cell_type": "code",
   "execution_count": 4,
   "id": "f1e48e2b",
   "metadata": {},
   "outputs": [],
   "source": [
    "input_ids = tokenizer.encode(prompt, return_tensors='pt')\n",
    "attention_mask = (input_ids != tokenizer.pad_token_id).long() "
   ]
  },
  {
   "cell_type": "code",
   "execution_count": 5,
   "id": "bd97bca9",
   "metadata": {},
   "outputs": [
    {
     "name": "stderr",
     "output_type": "stream",
     "text": [
      "Setting `pad_token_id` to `eos_token_id`:50256 for open-end generation.\n"
     ]
    }
   ],
   "source": [
    "output = model.generate(\n",
    "    input_ids,\n",
    "    attention_mask=attention_mask,\n",
    "    max_length=140,\n",
    "    num_beams=10, \n",
    "    no_repeat_ngram_size=4,\n",
    "    early_stopping=True,\n",
    "    do_sample=True,\n",
    "    top_k=35,\n",
    "    top_p=0.95,\n",
    "    temperature=0.35\n",
    ")"
   ]
  },
  {
   "cell_type": "code",
   "execution_count": 6,
   "id": "c4964322-4811-4254-aabf-c6a8d039297f",
   "metadata": {},
   "outputs": [],
   "source": [
    "generated_text = tokenizer.decode(output[0], skip_special_tokens=True)"
   ]
  },
  {
   "cell_type": "code",
   "execution_count": 7,
   "id": "e42fb4b3",
   "metadata": {},
   "outputs": [
    {
     "name": "stdout",
     "output_type": "stream",
     "text": [
      "The future of climate change issues global council climate change unfccc secretariat europe germany adopted new emission trading system european commission adopted new emission reduction target paris agreement aims meet paris agreement goal limiting global temperature rise c c european unions first legally binding agreement legally binding since ratified january february european parliament approved new emission reduction targets january european council approved new emission trading scheme aims meet european union minimum temperature increase target increasing average annual reduction rate less per year second legally binding agreement countries agree reduce share greenhouse gas ghg emissions international energy agency iea world energy outlook intergovernmental panel climate change ipcc sixth assessment report ipcc concluded year ip\n"
     ]
    }
   ],
   "source": [
    "print(generated_text)"
   ]
  },
  {
   "cell_type": "code",
   "execution_count": null,
   "id": "c4904d0c",
   "metadata": {},
   "outputs": [],
   "source": []
  }
 ],
 "metadata": {
  "kernelspec": {
   "display_name": "Python 3 (LLM)",
   "language": "python",
   "name": "myenv"
  },
  "language_info": {
   "codemirror_mode": {
    "name": "ipython",
    "version": 3
   },
   "file_extension": ".py",
   "mimetype": "text/x-python",
   "name": "python",
   "nbconvert_exporter": "python",
   "pygments_lexer": "ipython3",
   "version": "3.11.7"
  }
 },
 "nbformat": 4,
 "nbformat_minor": 5
}
